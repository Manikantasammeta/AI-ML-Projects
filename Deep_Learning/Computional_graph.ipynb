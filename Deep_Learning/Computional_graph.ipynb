{
 "cells": [
  {
   "cell_type": "markdown",
   "id": "2bad7e1b",
   "metadata": {},
   "source": [
    "# Computional Graph Practical in Python"
   ]
  },
  {
   "cell_type": "code",
   "execution_count": 1,
   "id": "2fb71570",
   "metadata": {},
   "outputs": [
    {
     "name": "stdout",
     "output_type": "stream",
     "text": [
      "z = 20\n",
      "dz/dx = 4\n"
     ]
    }
   ],
   "source": [
    "# Forward pass\n",
    "x = 2\n",
    "y = 3\n",
    "w = 4\n",
    "\n",
    "a = x + y         # node: a = x + y\n",
    "z = a * w         # node: z = a * w\n",
    "\n",
    "print(\"z =\", z)   # Output: z = 20\n",
    "\n",
    "# Backward pass (manual gradients using chain rule)\n",
    "dz_da = w         # derivative of z = a * w w.r.t a\n",
    "da_dx = 1         # derivative of a = x + y w.r.t x\n",
    "\n",
    "dz_dx = dz_da * da_dx  # Chain rule\n",
    "print(\"dz/dx =\", dz_dx)  # Output: 4\n"
   ]
  },
  {
   "cell_type": "markdown",
   "id": "80391b78",
   "metadata": {},
   "source": [
    "# Practical with PyTorch (Automatic Computational Graphs)"
   ]
  },
  {
   "cell_type": "code",
   "execution_count": 5,
   "id": "df2af691",
   "metadata": {},
   "outputs": [
    {
     "name": "stdout",
     "output_type": "stream",
     "text": [
      "z = 20.0\n",
      "dz/dx = 4.0\n",
      "dz/dy = 4.0\n",
      "dz/dw = 5.0\n"
     ]
    }
   ],
   "source": [
    "import torch\n",
    "\n",
    "# Enable automatic gradient tracking\n",
    "x = torch.tensor(2.0, requires_grad=True)\n",
    "y = torch.tensor(3.0, requires_grad=True)\n",
    "w = torch.tensor(4.0, requires_grad=True)\n",
    "\n",
    "a = x + y       # PyTorch creates a computational graph node for addition\n",
    "z = a * w       # Another node for multiplication\n",
    "\n",
    "z.backward()    # Automatically does backpropagation!\n",
    "\n",
    "print(\"z =\", z.item())\n",
    "print(\"dz/dx =\", x.grad.item())  # Output: 4.0\n",
    "print(\"dz/dy =\", y.grad.item())  # Output: 4.0\n",
    "print(\"dz/dw =\", w.grad.item())  # Output: 5.0\n"
   ]
  }
 ],
 "metadata": {
  "kernelspec": {
   "display_name": "Python 3",
   "language": "python",
   "name": "python3"
  },
  "language_info": {
   "codemirror_mode": {
    "name": "ipython",
    "version": 3
   },
   "file_extension": ".py",
   "mimetype": "text/x-python",
   "name": "python",
   "nbconvert_exporter": "python",
   "pygments_lexer": "ipython3",
   "version": "3.12.1"
  }
 },
 "nbformat": 4,
 "nbformat_minor": 5
}
